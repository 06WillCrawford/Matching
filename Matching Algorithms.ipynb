{
 "cells": [
  {
   "cell_type": "code",
   "execution_count": 2,
   "metadata": {},
   "outputs": [],
   "source": [
    "import itertools"
   ]
  },
  {
   "cell_type": "code",
   "execution_count": 3,
   "metadata": {},
   "outputs": [],
   "source": [
    "mentee_prefs = {'m1':['w1','w5','w4','w3','w2'],\n",
    "                'm2':['w1','w3','w5','w2','w4'],\n",
    "                'm3':['w4','w2','w3','w5','w1'],\n",
    "                'm4':['w5','w3','w2','w1','w4']}\n",
    "\n",
    "worker_prefs = {'w1':['m4','m2','m1','m3'],\n",
    "                'w2':['m1','m2','m3','m4'],\n",
    "                'w3':['m1','m3','m4','m2'],\n",
    "                'w4':['m4','m2','m1','m3'],\n",
    "                'w5':['m4','m2','m3','m1']}\n",
    "\n",
    "doctor_prefs = {'d1':[['h3','h1','h2'],1],\n",
    "                'd2':[['h2','h1','h3'],1],\n",
    "                'd3':[['h1','h3','h2'],1],\n",
    "                'd4':[['h1','h2','h3'],1]}\n",
    "\n",
    "hospital_prefs = {'h1':[['d1','d2','d3','d4'],2],\n",
    "                  'h2':[['d1','d2','d3','d4'],1],\n",
    "                  'h3':[['d3','d1','d2','d4'],1]}\n",
    "\n",
    "hospital_prefs_alt = {'h1':[['d2','d1','d3','d4'],2],\n",
    "                      'h2':[['d1','d2','d3','d4'],1],\n",
    "                      'h3':[['d3','d1','d2','d4'],1]}\n",
    "\n",
    "midterm_2024_q1_students = {'i1':['s1','s2'],\n",
    "                            'i2':['s1','s2'],\n",
    "                            'i3':['s2','s1']}\n",
    "midterm_2024_q1_schools = {'s1':['i1','i2','i3'],\n",
    "                           's2':['i2','i1','i3'],\n",
    "                           's3':['i1','i2','i3']}"
   ]
  },
  {
   "cell_type": "markdown",
   "metadata": {},
   "source": [
    "Matching Algorithms"
   ]
  },
  {
   "cell_type": "code",
   "execution_count": null,
   "metadata": {},
   "outputs": [],
   "source": [
    "def matching(proposer_prefs: dict, receiver_prefs: dict):\n",
    "\n",
    "    current_proposer_matches = {}\n",
    "    current_proposer_non_matches = [[i,0] for i in proposer_prefs.keys()]\n",
    "    lonely_hearts = []\n",
    "\n",
    "    leftovers = len(proposer_prefs) - len(receiver_prefs)\n",
    "    if leftovers<0:\n",
    "        leftovers = 0\n",
    "\n",
    "    while (len(current_proposer_matches) + len(lonely_hearts)) != len(proposer_prefs) :\n",
    "\n",
    "        j = current_proposer_non_matches[0]\n",
    "        prop, highest_prop = j      #assigns variables for the current proposer and their next highest proposal\n",
    "\n",
    "        if highest_prop <= len(proposer_prefs[prop])-1:\n",
    "            receiver = proposer_prefs[prop][highest_prop]       #finds next highest receiver that they haven't proposed to\n",
    "            receiver_pref_pos = receiver_prefs[receiver].index(prop)      #finds that proposer's pos in receiver's prefs\n",
    "        \n",
    "            if receiver not in current_proposer_matches.keys():      #if the current receiver hasn't been previously matched then:\n",
    "\n",
    "                current_proposer_matches[receiver] = [prop, receiver_pref_pos, highest_prop]        #an entry for the current receiver is added\n",
    "                current_proposer_non_matches.remove(j)      #the proposer's current entry in the non-matches list is removed\n",
    "\n",
    "            else:           #if current receiver has been matched:\n",
    "                \n",
    "                if current_proposer_matches[receiver][1] > receiver_prefs[receiver].index(prop):        #if the receiver prefers challenger to current match:\n",
    "\n",
    "                    current_proposer_non_matches.remove(j)      #that challenger is removed from non matches\n",
    "                    current_proposer_non_matches.append([current_proposer_matches[receiver][0],current_proposer_matches[receiver][2]+1])     #the previous match is added to the non-matches\n",
    "                    current_proposer_matches[receiver] = [prop, receiver_pref_pos, highest_prop]        #the receiver's entry in the matches dict is updated to add the new match\n",
    "\n",
    "                else:       #if the receiver doesn't prefer the current challenger, that challenger moves to the next proposal in their list\n",
    "                    \n",
    "                    current_proposer_non_matches.remove(j)\n",
    "                    current_proposer_non_matches.append([prop,highest_prop+1])\n",
    "\n",
    "        else:\n",
    "            lonely_hearts.append(prop)\n",
    "    \n",
    "    return f\"Matches: {current_proposer_matches}. Lonely Hearts: {lonely_hearts}\"\n",
    "\n",
    "def multiple_matching(proposer_prefs: dict, receiver_prefs: dict):\n",
    "\n",
    "    current_proposer_matches = {i:[] for i in receiver_prefs.keys()}\n",
    "    current_proposer_non_matches = [i for i in proposer_prefs.keys()]\n",
    "\n",
    "    leftovers = sum([i[1] for i in proposer_prefs.values()]) - sum([i[1] for i in receiver_prefs.values()])\n",
    "    if leftovers<0:\n",
    "        leftovers = 0\n",
    "\n",
    "    prop_caps = {i:j[1] for i,j in proposer_prefs.items()}\n",
    "    rec_caps = {i:j[1] for i,j in receiver_prefs.items()}\n",
    "\n",
    "    prop_current_prefs = {i:0 for i in proposer_prefs.keys()}\n",
    "    rec_current_prefs = {i:0 for i in receiver_prefs.keys()}\n",
    "\n",
    "    while len(current_proposer_non_matches) != leftovers:\n",
    "\n",
    "        prop = current_proposer_non_matches[0]\n",
    "        highest_prop = prop_current_prefs[prop]\n",
    "        # print(j)\n",
    "        \n",
    "        receiver = proposer_prefs[prop][0][highest_prop]       #finds next highest receiver that they haven't proposed to\n",
    "        receiver_pref_pos = receiver_prefs[receiver][0].index(prop)      #finds that proposer's pos in receiver's prefs\n",
    "        \n",
    "        # print(current_proposer_matches[receiver][0])\n",
    "\n",
    "        if rec_caps[receiver]>0:      #if the current receiver has capacity then:\n",
    "\n",
    "            current_proposer_matches[receiver].append([prop, rec_current_prefs[receiver],prop_current_prefs[prop]])        #an entry for the current receiver is added\n",
    "            current_proposer_matches[receiver] = sorted(current_proposer_matches[receiver], key = lambda x: x[1])\n",
    "            # current_proposer_matches[receiver][0] -= 1\n",
    "            rec_caps[receiver] -= 1\n",
    "\n",
    "            if prop_caps[prop] == 1:    \n",
    "                current_proposer_non_matches.remove(prop)      #the proposer's current entry in the non-matches list is removed if at capacity\n",
    "            else:\n",
    "                prop_caps[prop] -= 1\n",
    "                current_proposer_non_matches.remove(prop)\n",
    "                current_proposer_non_matches.append(prop)\n",
    "\n",
    "        else:           #if current receiver has been matched and is at capacity:\n",
    "            # print(current_proposer_matches[receiver][-1][0],receiver_prefs[receiver][0].index(prop))\n",
    "            if current_proposer_matches[receiver][-1][1] > receiver_prefs[receiver][0].index(prop):        #if the receiver prefers challenger to current least preferred match:\n",
    "\n",
    "                if prop_caps[prop] == 1:    \n",
    "                    current_proposer_non_matches.remove(prop)      #the proposer's current entry in the non-matches list is removed if he's got no more capacity\n",
    "                else:\n",
    "                    prop_caps[prop] -= 1\n",
    "                    current_proposer_non_matches.remove(prop)\n",
    "                    current_proposer_non_matches.append(prop)\n",
    "\n",
    "                current_proposer_non_matches.append(current_proposer_matches[receiver][-1][0])     #the previous match is added to the non-matches\n",
    "                prop_current_prefs[prop] += 1\n",
    "                prop_caps[current_proposer_matches[receiver][-1][0]] += 1\n",
    "\n",
    "                current_proposer_matches[receiver].append([prop, rec_current_prefs[receiver],prop_current_prefs[prop]])        #an entry for the current receiver is added\n",
    "                current_proposer_matches[receiver] = sorted(current_proposer_matches[receiver], key = lambda x: x[1])              \n",
    "                del current_proposer_matches[receiver][-1]\n",
    "\n",
    "            else:       #if the receiver doesn't prefer the current challenger, that challenger moves to the next proposal in their list\n",
    "                \n",
    "                current_proposer_non_matches.remove(prop)\n",
    "                current_proposer_non_matches.append(prop)\n",
    "                prop_current_prefs[prop] += 1\n",
    "        \n",
    "        # print(current_proposer_matches,current_proposer_non_matches, prop, prop_caps[prop])\n",
    "    \n",
    "    return current_proposer_matches\n",
    "        "
   ]
  },
  {
   "cell_type": "markdown",
   "metadata": {},
   "source": [
    "# Assignment Algorithms"
   ]
  },
  {
   "cell_type": "code",
   "execution_count": 5,
   "metadata": {},
   "outputs": [],
   "source": [
    "def serial_dict(indiv_prefs : dict, objects: list, indiv_ordering: list):\n",
    "\n",
    "    objects_1 = objects\n",
    "    indiv_prefs_1 = indiv_prefs\n",
    "    indiv_ordering_1 = indiv_ordering\n",
    "    result = {}\n",
    "\n",
    "    # print(objects)\n",
    "\n",
    "    while indiv_ordering_1:\n",
    "        i = indiv_ordering_1[0]\n",
    "        counter = 0\n",
    "        while i not in result.keys():\n",
    "            i_pref = indiv_prefs_1[i][counter]\n",
    "            if i_pref in objects_1:\n",
    "                result[i] = i_pref\n",
    "                indiv_ordering_1.remove(i)\n",
    "                objects_1.remove(i_pref)\n",
    "            counter+=1\n",
    "    \n",
    "    return result\n",
    "\n",
    "def top_trading_cycle(indiv_prefs : dict, endowments: dict):\n",
    "\n",
    "    results = {}\n",
    "\n",
    "    while endowments:\n",
    "\n",
    "        current_prefs = {i:indiv_prefs[i][0] for i in indiv_prefs.keys()}\n",
    "        endow_inverted = {endowments[i]:i for i in endowments.keys()}\n",
    "\n",
    "        matrix = []\n",
    "        starter = list(current_prefs.keys())[0]\n",
    "\n",
    "        while matrix.count(starter)<=1:\n",
    "            matrix.append(starter)\n",
    "            starter = endow_inverted[current_prefs[starter]]\n",
    "\n",
    "        cycle = matrix[matrix.index(matrix[-1]):-1]\n",
    "        print(matrix,cycle)\n",
    "\n",
    "        for i in cycle:\n",
    "            results[i] = current_prefs[i]\n",
    "            endowments.pop(i)\n",
    "            indiv_prefs.pop(i)\n",
    "            removals = [current_prefs[k] for k in cycle]\n",
    "            for j in indiv_prefs.keys():\n",
    "                for l in removals:\n",
    "                    if l in indiv_prefs[j]:\n",
    "                        indiv_prefs[j].remove(l)\n",
    "        \n",
    "    return results"
   ]
  },
  {
   "cell_type": "markdown",
   "metadata": {},
   "source": [
    "Serial Dict Basic"
   ]
  },
  {
   "cell_type": "code",
   "execution_count": 14,
   "metadata": {},
   "outputs": [
    {
     "name": "stdout",
     "output_type": "stream",
     "text": [
      "[]\n"
     ]
    }
   ],
   "source": [
    "tenants = {'i1':['h3','h5','h1','h4','h2'],\n",
    "           'i2':['h5','h1','h3','h2','h4'],\n",
    "           'i3':['h3','h4','h2','h1','h5'],\n",
    "           'i4':['h5','h1','h2','h3','h4'],\n",
    "           'i5':['h4','h2','h1','h5','h3']}\n",
    "\n",
    "houses = ['h1','h2','h3','h4','h5']\n",
    "house_endowments = {'i1':'h1','i2':'h2','i3':'h3','i4':'h4','i5':'h5'}\n",
    "\n",
    "tenant_order = ['i1','i2','i3','i4','i5']\n",
    "\n",
    "hypothetical_tenant_orders = list(itertools.permutations(tenant_order))\n",
    "for i in hypothetical_tenant_orders:\n",
    "    hypothetical_tenant_orders[hypothetical_tenant_orders.index(i)] = list(i)\n",
    "\n",
    "target = {'i1':'h1','i2':'h2','i3':'h3','i4':'h5','i5':'h4'}\n",
    "count=0\n",
    "\n",
    "while serial_dict(tenants, houses, hypothetical_tenant_orders[count]) != target:\n",
    "    houses = ['h1','h2','h3','h4','h5']\n",
    "    # print(count)\n",
    "    count+=1\n",
    "\n",
    "print(hypothetical_tenant_orders[count])\n",
    "# print(serial_dict(tenants, houses, tenant_order))\n",
    "# print(top_trading_cycle(tenants, house_endowments))"
   ]
  },
  {
   "cell_type": "markdown",
   "metadata": {},
   "source": [
    "Mentee Optimal Matching"
   ]
  },
  {
   "cell_type": "code",
   "execution_count": 26,
   "metadata": {},
   "outputs": [
    {
     "name": "stdout",
     "output_type": "stream",
     "text": [
      "i1 0 ['s1', 's2']\n",
      "i2 0 ['s1', 's2']\n",
      "i3 0 ['s2', 's1']\n",
      "i2 1 ['s1', 's2']\n",
      "i3 1 ['s2', 's1']\n",
      "i3 2 ['s2', 's1']\n",
      "Matches: {'s1': ['i1', 0, 0], 's2': ['i2', 0, 1]}. Lonely Hearts: ['i3']\n"
     ]
    }
   ],
   "source": [
    "print(matching(midterm_2024_q1_students,midterm_2024_q1_schools))"
   ]
  },
  {
   "cell_type": "markdown",
   "metadata": {},
   "source": [
    "Worker Optimal Matching"
   ]
  },
  {
   "cell_type": "code",
   "execution_count": null,
   "metadata": {},
   "outputs": [
    {
     "name": "stdout",
     "output_type": "stream",
     "text": [
      "{'m4': ['w5', 0, 0], 'm1': ['w4', 2, 2], 'm2': ['w1', 0, 1], 'm3': ['w2', 1, 2]}\n"
     ]
    }
   ],
   "source": [
    "print(matching(worker_prefs,mentee_prefs))"
   ]
  },
  {
   "cell_type": "markdown",
   "metadata": {},
   "source": [
    "Doctor Optimal Matching"
   ]
  },
  {
   "cell_type": "code",
   "execution_count": null,
   "metadata": {},
   "outputs": [
    {
     "name": "stdout",
     "output_type": "stream",
     "text": [
      "{'h1': [['d3', 2], ['d4', 3]], 'h2': [['d2', 1]], 'h3': [['d1', 1]]}\n"
     ]
    }
   ],
   "source": [
    "print(multiple_matching(doctor_prefs,hospital_prefs))"
   ]
  },
  {
   "cell_type": "markdown",
   "metadata": {},
   "source": [
    "Hospital Optimal Matching"
   ]
  },
  {
   "cell_type": "code",
   "execution_count": null,
   "metadata": {},
   "outputs": [
    {
     "name": "stdout",
     "output_type": "stream",
     "text": [
      "{'d1': [['h2', 0, 0]], 'd2': [['h1', 0, 0]], 'd3': [['h3', 0, 0]], 'd4': [['h1', 0, 3]]}\n"
     ]
    }
   ],
   "source": [
    "print(multiple_matching(hospital_prefs_alt,doctor_prefs))"
   ]
  }
 ],
 "metadata": {
  "kernelspec": {
   "display_name": ".venv",
   "language": "python",
   "name": "python3"
  },
  "language_info": {
   "codemirror_mode": {
    "name": "ipython",
    "version": 3
   },
   "file_extension": ".py",
   "mimetype": "text/x-python",
   "name": "python",
   "nbconvert_exporter": "python",
   "pygments_lexer": "ipython3",
   "version": "3.11.7"
  }
 },
 "nbformat": 4,
 "nbformat_minor": 2
}
